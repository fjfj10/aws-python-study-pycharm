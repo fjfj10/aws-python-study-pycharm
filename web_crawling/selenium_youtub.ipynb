{
 "cells": [
  {
   "cell_type": "code",
   "execution_count": null,
   "metadata": {},
   "outputs": [],
   "source": [
    "# 검색어[\"아이폰15\", \"손흥민\", \"react\", \"야구\"] 데이터는 각 10개씩만\n",
    "# 결과 형태\n",
    "# [\n",
    "#     {\n",
    "#         \"seachvalue\": \"아이폰15\",\n",
    "#         \"data_list\": [\n",
    "#             {\n",
    "#                 \"title\": \"\",\n",
    "#                 \"hits\": 10, \n",
    "#                 \"creator\": \"\",\n",
    "#                 \"description\": \"\",\n",
    "#                 \"url\": \"\" = href\n",
    "#             }\n",
    "#         ]\n",
    "#     },\n",
    "#     {\n",
    "#         \"seachvalue\": \"손흥민\",\n",
    "#         \"data_list\": [\n",
    "#             {\n",
    "#                 \"title\": \"\",\n",
    "#                 \"hits\": 10,\n",
    "#                 \"creator\": \"\",\n",
    "#                 \"description\": \"\",\n",
    "#                 \"url\": \"\"\n",
    "#             }\n",
    "#         ]\n",
    "#     }\n",
    "# ]"
   ]
  },
  {
   "cell_type": "code",
   "execution_count": 26,
   "metadata": {},
   "outputs": [
    {
     "ename": "NoSuchElementException",
     "evalue": "Message: no such element: Unable to locate element: {\"method\":\"css selector\",\"selector\":\"[id=\"metadata-line\"]\"}\n  (Session info: chrome=117.0.5938.89)\nStacktrace:\n\tGetHandleVerifier [0x00007FF7476A78A2+54818]\n\t(No symbol) [0x00007FF747616AD2]\n\t(No symbol) [0x00007FF7474CDA3B]\n\t(No symbol) [0x00007FF74750E4FC]\n\t(No symbol) [0x00007FF74750E67C]\n\t(No symbol) [0x00007FF7475050FC]\n\t(No symbol) [0x00007FF74752EAEF]\n\t(No symbol) [0x00007FF747505036]\n\t(No symbol) [0x00007FF74752ECC0]\n\t(No symbol) [0x00007FF7475475A2]\n\t(No symbol) [0x00007FF74752E883]\n\t(No symbol) [0x00007FF747503691]\n\t(No symbol) [0x00007FF7475048D4]\n\tGetHandleVerifier [0x00007FF747A0B9A2+3610402]\n\tGetHandleVerifier [0x00007FF747A61870+3962352]\n\tGetHandleVerifier [0x00007FF747A59D5F+3930847]\n\tGetHandleVerifier [0x00007FF747743656+693206]\n\t(No symbol) [0x00007FF747621638]\n\t(No symbol) [0x00007FF74761D944]\n\t(No symbol) [0x00007FF74761DA72]\n\t(No symbol) [0x00007FF74760E123]\n\tBaseThreadInitThunk [0x00007FFB0D557614+20]\n\tRtlUserThreadStart [0x00007FFB0D7226B1+33]\n",
     "output_type": "error",
     "traceback": [
      "\u001b[1;31m---------------------------------------------------------------------------\u001b[0m",
      "\u001b[1;31mNoSuchElementException\u001b[0m                    Traceback (most recent call last)",
      "\u001b[1;32mc:\\aws\\python\\basic\\web_crawling\\selenium_youtub.ipynb 셀 2\u001b[0m line \u001b[0;36m3\n\u001b[0;32m     <a href='vscode-notebook-cell:/c%3A/aws/python/basic/web_crawling/selenium_youtub.ipynb#W1sZmlsZQ%3D%3D?line=31'>32</a>\u001b[0m         \u001b[39mbreak\u001b[39;00m\n\u001b[0;32m     <a href='vscode-notebook-cell:/c%3A/aws/python/basic/web_crawling/selenium_youtub.ipynb#W1sZmlsZQ%3D%3D?line=33'>34</a>\u001b[0m title \u001b[39m=\u001b[39m video\u001b[39m.\u001b[39mfind_element(by\u001b[39m=\u001b[39mBy\u001b[39m.\u001b[39mID, value\u001b[39m=\u001b[39m\u001b[39m'\u001b[39m\u001b[39mvideo-title\u001b[39m\u001b[39m'\u001b[39m)\u001b[39m.\u001b[39mget_attribute(name\u001b[39m=\u001b[39m\u001b[39m\"\u001b[39m\u001b[39mtitle\u001b[39m\u001b[39m\"\u001b[39m)\n\u001b[1;32m---> <a href='vscode-notebook-cell:/c%3A/aws/python/basic/web_crawling/selenium_youtub.ipynb#W1sZmlsZQ%3D%3D?line=34'>35</a>\u001b[0m hits \u001b[39m=\u001b[39m video\u001b[39m.\u001b[39mfind_element(by\u001b[39m=\u001b[39mBy\u001b[39m.\u001b[39mID, value\u001b[39m=\u001b[39m\u001b[39m'\u001b[39m\u001b[39mmetadata-line\u001b[39m\u001b[39m'\u001b[39m)\u001b[39m.\u001b[39mtext\n\u001b[0;32m     <a href='vscode-notebook-cell:/c%3A/aws/python/basic/web_crawling/selenium_youtub.ipynb#W1sZmlsZQ%3D%3D?line=35'>36</a>\u001b[0m view \u001b[39m=\u001b[39m hits\u001b[39m.\u001b[39msplit()[\u001b[39m1\u001b[39m]\n\u001b[0;32m     <a href='vscode-notebook-cell:/c%3A/aws/python/basic/web_crawling/selenium_youtub.ipynb#W1sZmlsZQ%3D%3D?line=36'>37</a>\u001b[0m creator \u001b[39m=\u001b[39m video\u001b[39m.\u001b[39mfind_element(by\u001b[39m=\u001b[39mBy\u001b[39m.\u001b[39mID, value\u001b[39m=\u001b[39m\u001b[39m'\u001b[39m\u001b[39mchannel-info\u001b[39m\u001b[39m'\u001b[39m)\u001b[39m.\u001b[39mtext\n",
      "File \u001b[1;32mc:\\Users\\ITPS\\anaconda3\\Lib\\site-packages\\selenium\\webdriver\\remote\\webelement.py:425\u001b[0m, in \u001b[0;36mWebElement.find_element\u001b[1;34m(self, by, value)\u001b[0m\n\u001b[0;32m    422\u001b[0m     by \u001b[39m=\u001b[39m By\u001b[39m.\u001b[39mCSS_SELECTOR\n\u001b[0;32m    423\u001b[0m     value \u001b[39m=\u001b[39m \u001b[39mf\u001b[39m\u001b[39m'\u001b[39m\u001b[39m[name=\u001b[39m\u001b[39m\"\u001b[39m\u001b[39m{\u001b[39;00mvalue\u001b[39m}\u001b[39;00m\u001b[39m\"\u001b[39m\u001b[39m]\u001b[39m\u001b[39m'\u001b[39m\n\u001b[1;32m--> 425\u001b[0m \u001b[39mreturn\u001b[39;00m \u001b[39mself\u001b[39m\u001b[39m.\u001b[39m_execute(Command\u001b[39m.\u001b[39mFIND_CHILD_ELEMENT, {\u001b[39m\"\u001b[39m\u001b[39musing\u001b[39m\u001b[39m\"\u001b[39m: by, \u001b[39m\"\u001b[39m\u001b[39mvalue\u001b[39m\u001b[39m\"\u001b[39m: value})[\u001b[39m\"\u001b[39m\u001b[39mvalue\u001b[39m\u001b[39m\"\u001b[39m]\n",
      "File \u001b[1;32mc:\\Users\\ITPS\\anaconda3\\Lib\\site-packages\\selenium\\webdriver\\remote\\webelement.py:403\u001b[0m, in \u001b[0;36mWebElement._execute\u001b[1;34m(self, command, params)\u001b[0m\n\u001b[0;32m    401\u001b[0m     params \u001b[39m=\u001b[39m {}\n\u001b[0;32m    402\u001b[0m params[\u001b[39m\"\u001b[39m\u001b[39mid\u001b[39m\u001b[39m\"\u001b[39m] \u001b[39m=\u001b[39m \u001b[39mself\u001b[39m\u001b[39m.\u001b[39m_id\n\u001b[1;32m--> 403\u001b[0m \u001b[39mreturn\u001b[39;00m \u001b[39mself\u001b[39m\u001b[39m.\u001b[39m_parent\u001b[39m.\u001b[39mexecute(command, params)\n",
      "File \u001b[1;32mc:\\Users\\ITPS\\anaconda3\\Lib\\site-packages\\selenium\\webdriver\\remote\\webdriver.py:440\u001b[0m, in \u001b[0;36mWebDriver.execute\u001b[1;34m(self, driver_command, params)\u001b[0m\n\u001b[0;32m    438\u001b[0m response \u001b[39m=\u001b[39m \u001b[39mself\u001b[39m\u001b[39m.\u001b[39mcommand_executor\u001b[39m.\u001b[39mexecute(driver_command, params)\n\u001b[0;32m    439\u001b[0m \u001b[39mif\u001b[39;00m response:\n\u001b[1;32m--> 440\u001b[0m     \u001b[39mself\u001b[39m\u001b[39m.\u001b[39merror_handler\u001b[39m.\u001b[39mcheck_response(response)\n\u001b[0;32m    441\u001b[0m     response[\u001b[39m\"\u001b[39m\u001b[39mvalue\u001b[39m\u001b[39m\"\u001b[39m] \u001b[39m=\u001b[39m \u001b[39mself\u001b[39m\u001b[39m.\u001b[39m_unwrap_value(response\u001b[39m.\u001b[39mget(\u001b[39m\"\u001b[39m\u001b[39mvalue\u001b[39m\u001b[39m\"\u001b[39m, \u001b[39mNone\u001b[39;00m))\n\u001b[0;32m    442\u001b[0m     \u001b[39mreturn\u001b[39;00m response\n",
      "File \u001b[1;32mc:\\Users\\ITPS\\anaconda3\\Lib\\site-packages\\selenium\\webdriver\\remote\\errorhandler.py:245\u001b[0m, in \u001b[0;36mErrorHandler.check_response\u001b[1;34m(self, response)\u001b[0m\n\u001b[0;32m    243\u001b[0m         alert_text \u001b[39m=\u001b[39m value[\u001b[39m\"\u001b[39m\u001b[39malert\u001b[39m\u001b[39m\"\u001b[39m]\u001b[39m.\u001b[39mget(\u001b[39m\"\u001b[39m\u001b[39mtext\u001b[39m\u001b[39m\"\u001b[39m)\n\u001b[0;32m    244\u001b[0m     \u001b[39mraise\u001b[39;00m exception_class(message, screen, stacktrace, alert_text)  \u001b[39m# type: ignore[call-arg]  # mypy is not smart enough here\u001b[39;00m\n\u001b[1;32m--> 245\u001b[0m \u001b[39mraise\u001b[39;00m exception_class(message, screen, stacktrace)\n",
      "\u001b[1;31mNoSuchElementException\u001b[0m: Message: no such element: Unable to locate element: {\"method\":\"css selector\",\"selector\":\"[id=\"metadata-line\"]\"}\n  (Session info: chrome=117.0.5938.89)\nStacktrace:\n\tGetHandleVerifier [0x00007FF7476A78A2+54818]\n\t(No symbol) [0x00007FF747616AD2]\n\t(No symbol) [0x00007FF7474CDA3B]\n\t(No symbol) [0x00007FF74750E4FC]\n\t(No symbol) [0x00007FF74750E67C]\n\t(No symbol) [0x00007FF7475050FC]\n\t(No symbol) [0x00007FF74752EAEF]\n\t(No symbol) [0x00007FF747505036]\n\t(No symbol) [0x00007FF74752ECC0]\n\t(No symbol) [0x00007FF7475475A2]\n\t(No symbol) [0x00007FF74752E883]\n\t(No symbol) [0x00007FF747503691]\n\t(No symbol) [0x00007FF7475048D4]\n\tGetHandleVerifier [0x00007FF747A0B9A2+3610402]\n\tGetHandleVerifier [0x00007FF747A61870+3962352]\n\tGetHandleVerifier [0x00007FF747A59D5F+3930847]\n\tGetHandleVerifier [0x00007FF747743656+693206]\n\t(No symbol) [0x00007FF747621638]\n\t(No symbol) [0x00007FF74761D944]\n\t(No symbol) [0x00007FF74761DA72]\n\t(No symbol) [0x00007FF74760E123]\n\tBaseThreadInitThunk [0x00007FFB0D557614+20]\n\tRtlUserThreadStart [0x00007FFB0D7226B1+33]\n"
     ]
    }
   ],
   "source": [
    "from selenium import webdriver\n",
    "from selenium.webdriver.common.keys import Keys\n",
    "from selenium.webdriver.common.by import By\n",
    "import time\n",
    "\n",
    "driver = webdriver.Chrome(executable_path=\"chromedriver\")\n",
    "\n",
    "driver.get(\"https://www.youtube.com/\")\n",
    "time.sleep(1)\n",
    "\n",
    "seachValue = input(\"검색어 입력: \")\n",
    "\n",
    "searchInput = driver.find_element(by=By.CSS_SELECTOR, value=\"input[name='search_query']\")\n",
    "searchInput.send_keys(seachValue)\n",
    "searchInput.send_keys(Keys.RETURN)\n",
    "time.sleep(2)\n",
    "\n",
    "video_list = []\n",
    "\n",
    "videos = driver.find_elements(by=By.ID, value='dismissible')\n",
    "\n",
    "for video in videos[:10]:\n",
    "    data_list = []\n",
    "\n",
    "    scrollTop = 0\n",
    "    while True:\n",
    "        driver.execute_script(f'window.scrollTo(0, {scrollTop})')\n",
    "\n",
    "        scrollTop += 500\n",
    "        time.sleep(5)\n",
    "        if scrollTop > 2000:\n",
    "            break\n",
    "\n",
    "    title = video.find_element(by=By.ID, value='video-title').get_attribute(name=\"title\")\n",
    "    hits = video.find_element(by=By.ID, value='metadata-line').text\n",
    "    view = hits.split()[1]\n",
    "    creator = video.find_element(by=By.ID, value='channel-info').text\n",
    "    description = video.find_element(by=By.XPATH, value='//*[@id=\"dismissible\"]/div/div[3]/yt-formatted-string').text\n",
    "    url = video.find_element(by=By.ID, value='thumbnail').get_attribute(name=\"href\")\n",
    "\n",
    "    video_dict = {\n",
    "        \"title\": title,\n",
    "        \"hits\": view, \n",
    "        \"creator\": creator,\n",
    "        \"description\": description,\n",
    "        \"url\": url\n",
    "    }\n",
    "    data_list.append(video_dict)\n",
    "\n",
    "    print(data_list)"
   ]
  },
  {
   "cell_type": "markdown",
   "metadata": {},
   "source": []
  }
 ],
 "metadata": {
  "kernelspec": {
   "display_name": "base",
   "language": "python",
   "name": "python3"
  },
  "language_info": {
   "codemirror_mode": {
    "name": "ipython",
    "version": 3
   },
   "file_extension": ".py",
   "mimetype": "text/x-python",
   "name": "python",
   "nbconvert_exporter": "python",
   "pygments_lexer": "ipython3",
   "version": "3.11.5"
  },
  "orig_nbformat": 4
 },
 "nbformat": 4,
 "nbformat_minor": 2
}
