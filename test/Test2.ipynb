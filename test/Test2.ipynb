{
 "cells": [
  {
   "cell_type": "code",
   "execution_count": 58,
   "metadata": {},
   "outputs": [
    {
     "name": "stdout",
     "output_type": "stream",
     "text": [
      "[ 종가평균 ]       =>           10520.0\n",
      "dtype: float64\n"
     ]
    }
   ],
   "source": [
    "import pandas as pd\n",
    "\n",
    "inputValue = input(\"종가 입력: \")\n",
    "\n",
    "inputArray = inputValue.split(\",\")\n",
    "intArray = []\n",
    "\n",
    "for num in inputArray:\n",
    "    intArray.append(int(num))\n",
    "\n",
    "number = pd.DataFrame(intArray)\n",
    "mean = number.mean()\n",
    "mean.index=[\"[ 종가평균 ]       =>       \"]\n",
    "print(mean)"
   ]
  },
  {
   "cell_type": "code",
   "execution_count": null,
   "metadata": {},
   "outputs": [],
   "source": [
    "# [ 종가평균 ]       =>           10520.0\n",
    "# dtype: float64"
   ]
  }
 ],
 "metadata": {
  "language_info": {
   "name": "python"
  },
  "orig_nbformat": 4
 },
 "nbformat": 4,
 "nbformat_minor": 2
}
