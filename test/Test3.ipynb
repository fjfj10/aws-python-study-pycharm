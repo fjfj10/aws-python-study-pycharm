{
 "cells": [
  {
   "cell_type": "code",
   "execution_count": null,
   "metadata": {},
   "outputs": [],
   "source": [
    "import numpy as np\n",
    "\n",
    "array1 = [[1.,1,1,1,1],[1,1,1,1,1],[1,1,1,1,1],[1,1,1,1,1],[1,1,1,1,1]]\n",
    "np_array1 = np.ones_like(array1)\n",
    "print(np_array1)\n",
    "np_array2 = np.full((5, 5), 5)\n",
    "print(np_array2)\n",
    "\n",
    "print(\"[출력결과1]\")\n",
    "np_array3 = np_array1 + np_array2\n",
    "print(np_array3)\n",
    "\n",
    "print(\"[출력결과2]\")\n",
    "array4 = [[6,1,1,1,6],[1,6,1,6,1],[1,1,6,1,1],[1,6,1,6,1],[6,1,1,1,6]]\n",
    "array5 = np_array3 * array4\n",
    "print(array5)"
   ]
  },
  {
   "cell_type": "code",
   "execution_count": null,
   "metadata": {},
   "outputs": [],
   "source": [
    "# [[1. 1. 1. 1. 1.]\n",
    "#  [1. 1. 1. 1. 1.]\n",
    "#  [1. 1. 1. 1. 1.]\n",
    "#  [1. 1. 1. 1. 1.]\n",
    "#  [1. 1. 1. 1. 1.]]\n",
    "# [[5 5 5 5 5]\n",
    "#  [5 5 5 5 5]\n",
    "#  [5 5 5 5 5]\n",
    "#  [5 5 5 5 5]\n",
    "#  [5 5 5 5 5]]\n",
    "# [출력결과1]\n",
    "# [[6. 6. 6. 6. 6.]\n",
    "#  [6. 6. 6. 6. 6.]\n",
    "#  [6. 6. 6. 6. 6.]\n",
    "#  [6. 6. 6. 6. 6.]\n",
    "#  [6. 6. 6. 6. 6.]]\n",
    "# [출력결과2]\n",
    "# [[36.  6.  6.  6. 36.]\n",
    "#  [ 6. 36.  6. 36.  6.]\n",
    "#  [ 6.  6. 36.  6.  6.]\n",
    "#  [ 6. 36.  6. 36.  6.]\n",
    "#  [36.  6.  6.  6. 36.]]\n"
   ]
  }
 ],
 "metadata": {
  "kernelspec": {
   "display_name": "base",
   "language": "python",
   "name": "python3"
  },
  "language_info": {
   "codemirror_mode": {
    "name": "ipython",
    "version": 3
   },
   "file_extension": ".py",
   "mimetype": "text/x-python",
   "name": "python",
   "nbconvert_exporter": "python",
   "pygments_lexer": "ipython3",
   "version": "3.11.5"
  },
  "orig_nbformat": 4
 },
 "nbformat": 4,
 "nbformat_minor": 2
}
