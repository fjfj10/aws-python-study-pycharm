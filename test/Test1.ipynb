{
 "cells": [
  {
   "cell_type": "code",
   "execution_count": null,
   "metadata": {},
   "outputs": [],
   "source": [
    "# 앞 숫자 3자리 : 차량종류 = [ 승용차:100-699, 승합차:700-799, 화물차:800-979, 특수차:980-997, 긴급차: 998-999 ]\n",
    "# 문자 : 비사업용 [가,나,다,라,마,거,너,더,러,머,버,서,어,저,고,노,도,로,모,보,소,오,조,구,누,두,루,무,부,수,우,주]\n",
    "#        운수사업용 [아,바,사,자]\n",
    "#         택배차 [배]\n",
    "#         랜터카 [허,하호]\n",
    "\n",
    "#98포 4332"
   ]
  },
  {
   "cell_type": "code",
   "execution_count": 18,
   "metadata": {},
   "outputs": [
    {
     "name": "stdout",
     "output_type": "stream",
     "text": [
      "[입력 데이터]        =>     98포 4332\n",
      "[딕셔너리 변환]      =>     {'type': 98, 'purpose': '포', 'number': 4332}\n",
      "[차량 정보]          =>     {'type': '오류', 'purpose': '오류', 'number': 4332}\n"
     ]
    }
   ],
   "source": [
    "searchValue = input(\"차량 번호를 입력하세요: \")\n",
    "print(f\"[입력 데이터]        =>     {searchValue}\")\n",
    "\n",
    "value = searchValue.split()\n",
    "\n",
    "type = int(value[0][:-1])\n",
    "purpose = value[0][-1]\n",
    "number = int(value[1])\n",
    "\n",
    "valueDict = {\n",
    "    \"type\": type,\n",
    "    \"purpose\": purpose,\n",
    "    \"number\": number\n",
    "}\n",
    "print(f\"[딕셔너리 변환]      =>     {valueDict}\")\n",
    "\n",
    "\n",
    "if type > 100 and type < 1000:\n",
    "    if type < 700:\n",
    "        type = \"승용차\"\n",
    "    elif type < 800:\n",
    "        type = \"승합차\"\n",
    "    elif type < 980:\n",
    "        type = \"화물차\"\n",
    "    elif type < 998:\n",
    "        type = \"특수차\"\n",
    "    elif type == 998 or type == 999:\n",
    "        type = \"특수차\"\n",
    "else: type = \"오류\"\n",
    "\n",
    "array1 = \"가,나,다,라,마,거,너,더,러,머,버,서,어,저,고,노,도,로,모,보,소,오,조,구,누,두,루,무,부,수,우,주\"\n",
    "array2 = \"아,바,사,자\"\n",
    "array3 = \"허,하,호\"\n",
    "\n",
    "if array1.find(purpose) > 0:\n",
    "    purpose = \"비상업용\"\n",
    "elif array2.find(purpose) > 0:\n",
    "    purpose = \"운수사업용\"\n",
    "elif array3.find(purpose) > 0:\n",
    "    purpose = \"랜터카\"\n",
    "elif purpose == \"배\":\n",
    "    purpose = \"택배용\"\n",
    "else: purpose = \"오류\"\n",
    "\n",
    "infoDict = {\n",
    "    \"type\": type,\n",
    "    \"purpose\": purpose,\n",
    "    \"number\": number\n",
    "}\n",
    "\n",
    "print(f\"[차량 정보]          =>     {infoDict}\")"
   ]
  },
  {
   "cell_type": "code",
   "execution_count": null,
   "metadata": {},
   "outputs": [],
   "source": [
    "# [입력 데이터]        =>     98포 4332\n",
    "# [딕셔너리 변환]      =>     {'type': 98, 'purpose': '포', 'number': 4332}\n",
    "# [차량 정보]          =>     {'type': '오류', 'purpose': '오류', 'number': 4332}\n",
    "\n",
    "# [입력 데이터]        =>     799가 1234\n",
    "# [딕셔너리 변환]      =>     {'type': 799, 'purpose': '가', 'number': 1234}\n",
    "# [차량 정보]          =>     {'type': '승합차', 'purpose': '운수사업용', 'number': 1234}\n"
   ]
  }
 ],
 "metadata": {
  "kernelspec": {
   "display_name": "base",
   "language": "python",
   "name": "python3"
  },
  "language_info": {
   "codemirror_mode": {
    "name": "ipython",
    "version": 3
   },
   "file_extension": ".py",
   "mimetype": "text/x-python",
   "name": "python",
   "nbconvert_exporter": "python",
   "pygments_lexer": "ipython3",
   "version": "3.11.5"
  },
  "orig_nbformat": 4
 },
 "nbformat": 4,
 "nbformat_minor": 2
}
