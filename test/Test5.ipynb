{
 "cells": [
  {
   "cell_type": "code",
   "execution_count": 19,
   "metadata": {},
   "outputs": [
    {
     "name": "stderr",
     "output_type": "stream",
     "text": [
      "C:\\Users\\ITPS\\AppData\\Local\\Temp\\ipykernel_6824\\3524645091.py:7: DeprecationWarning: executable_path has been deprecated, please pass in a Service object\n",
      "  driver = webdriver.Chrome(executable_path=\"../web_crawling/chromedriver.exe\")\n"
     ]
    },
    {
     "name": "stdout",
     "output_type": "stream",
     "text": [
      "[{'title': '경기도_도서 관련 업체 현황', 'provider_organization': '경기도', 'update_date': '2019-09-16', 'hits': '2269', 'request_count': '174', 'keyword': '지역서점,책방,도서대여점'}, {'title': '울산광역시_전자도서 정보', 'provider_organization': '울산광역시', 'update_date': '2022-11-11', 'hits': '1299', 'request_count': '29', 'keyword': '전자책,도서,자료실'}, {'title': '충청남도 공주시_시립도서관 도서목록 DB', 'provider_organization': '충청남도 공주시', 'update_date': '2019-10-02', 'hits': '2323', 'request_count': '45', 'keyword': '공주시립도서관,도서관,도서목록'}]\n"
     ]
    }
   ],
   "source": [
    "from selenium import webdriver\n",
    "from selenium.webdriver.common.keys import Keys\n",
    "from selenium.webdriver.common.by import By\n",
    "import time\n",
    "\n",
    "\n",
    "driver = webdriver.Chrome(executable_path=\"../web_crawling/chromedriver.exe\")\n",
    "\n",
    "driver.get(\"https://www.data.go.kr/index.do\")\n",
    "time.sleep(2)\n",
    "\n",
    "searchValue = input(\"어떤 공공 데이터를 찾으시나요? \")\n",
    "\n",
    "searchInput = driver.find_element(by=By.ID, value='keyword')\n",
    "searchInput.send_keys(searchValue)\n",
    "searchInput.send_keys(Keys.RETURN)\n",
    "time.sleep(2)\n",
    "\n",
    "driver.find_element(by=By.XPATH, value='//*[@id=\"dTypeAPI\"]/a').click()\n",
    "time.sleep(1)\n",
    "\n",
    "result_list = []\n",
    "\n",
    "for i in range(3, 6):\n",
    "    driver.find_element(by=By.XPATH, value=f'//*[@id=\"apiDataList\"]/nav/a[{i}]').click()\n",
    "    time.sleep(1)\n",
    "    \n",
    "    results = driver.find_elements(by=By.CSS_SELECTOR, value='#apiDataList > div.result-list > ul')\n",
    "\n",
    "    for result in results:\n",
    "        title = result.find_element(by=By.CLASS_NAME, value='title').text\n",
    "        \n",
    "        data_list = []\n",
    "        datas = result.find_elements(by=By.CSS_SELECTOR, value='div.info-data > p')\n",
    "        for data in datas:\n",
    "            data_list.append(data.text)\n",
    "        \n",
    "        provider_organization = data_list[0][5:]\n",
    "        update_date = data_list[1][4:]\n",
    "        hits = data_list[2][4:]\n",
    "        request_count = data_list[3][5:]\n",
    "        keyword = data_list[4][4:]\n",
    "\n",
    "        result_dict = {\n",
    "            \"title\": title,\n",
    "            \"provider_organization\": provider_organization,\n",
    "            \"update_date\": update_date,\n",
    "            \"hits\": hits,\n",
    "            \"request_count\": request_count,\n",
    "            \"keyword\": keyword\n",
    "        }\n",
    "\n",
    "        result_list.append(result_dict)\n",
    "print(result_list)"
   ]
  },
  {
   "cell_type": "code",
   "execution_count": null,
   "metadata": {},
   "outputs": [],
   "source": []
  }
 ],
 "metadata": {
  "kernelspec": {
   "display_name": "base",
   "language": "python",
   "name": "python3"
  },
  "language_info": {
   "codemirror_mode": {
    "name": "ipython",
    "version": 3
   },
   "file_extension": ".py",
   "mimetype": "text/x-python",
   "name": "python",
   "nbconvert_exporter": "python",
   "pygments_lexer": "ipython3",
   "version": "3.11.5"
  },
  "orig_nbformat": 4
 },
 "nbformat": 4,
 "nbformat_minor": 2
}
