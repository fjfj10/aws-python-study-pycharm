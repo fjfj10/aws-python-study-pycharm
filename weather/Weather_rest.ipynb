{
 "cells": [
  {
   "cell_type": "code",
   "execution_count": 4,
   "metadata": {},
   "outputs": [
    {
     "name": "stdout",
     "output_type": "stream",
     "text": [
      "{'response': {'header': {'resultCode': '00', 'resultMsg': 'NORMAL_SERVICE'}, 'body': {'dataType': 'JSON', 'items': {'item': [{'regId': '11H20000', 'rnSt3Am': 40, 'rnSt3Pm': 40, 'rnSt4Am': 30, 'rnSt4Pm': 30, 'rnSt5Am': 30, 'rnSt5Pm': 40, 'rnSt6Am': 40, 'rnSt6Pm': 40, 'rnSt7Am': 40, 'rnSt7Pm': 40, 'rnSt8': 30, 'rnSt9': 40, 'rnSt10': 40, 'wf3Am': '구름많음', 'wf3Pm': '구름많음', 'wf4Am': '구름많음', 'wf4Pm': '구름많음', 'wf5Am': '구름많음', 'wf5Pm': '흐림', 'wf6Am': '흐림', 'wf6Pm': '흐림', 'wf7Am': '흐림', 'wf7Pm': '흐림', 'wf8': '구름많음', 'wf9': '흐림', 'wf10': '구름많음'}]}, 'pageNo': 1, 'numOfRows': 10, 'totalCount': 1}}}\n"
     ]
    }
   ],
   "source": [
    "import requests\n",
    "\n",
    "url = 'http://apis.data.go.kr/1360000/MidFcstInfoService/getMidLandFcst'\n",
    "params ={'serviceKey' : 'wpphaTlwm9mlrkmG7/tjiLOX7BLVVbkR+0Dedb4VeX5UIaiq23ZgrKCu5rCWcQveX06qXqf3ZGk+iic2vR1a5Q==', \n",
    "            'pageNo' : '1', \n",
    "            'numOfRows' : '10', \n",
    "            'dataType' : 'JSON', \n",
    "            'regId' : '11H20000', \n",
    "            'tmFc' : '202309150600' \n",
    "        }\n",
    "\n",
    "response = requests.get(url, params=params)\n",
    "response.encoding = 'utf-8'\n",
    "responseDict = eval(response.content)\n",
    "print(responseDict)"
   ]
  },
  {
   "cell_type": "code",
   "execution_count": null,
   "metadata": {},
   "outputs": [],
   "source": []
  }
 ],
 "metadata": {
  "kernelspec": {
   "display_name": "base",
   "language": "python",
   "name": "python3"
  },
  "language_info": {
   "codemirror_mode": {
    "name": "ipython",
    "version": 3
   },
   "file_extension": ".py",
   "mimetype": "text/x-python",
   "name": "python",
   "nbconvert_exporter": "python",
   "pygments_lexer": "ipython3",
   "version": "3.11.5"
  },
  "orig_nbformat": 4
 },
 "nbformat": 4,
 "nbformat_minor": 2
}
